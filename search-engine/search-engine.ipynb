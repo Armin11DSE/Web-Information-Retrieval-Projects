{
 "cells": [
  {
   "cell_type": "markdown",
   "id": "0fd38998",
   "metadata": {},
   "source": [
    "# Imports"
   ]
  },
  {
   "cell_type": "code",
   "execution_count": 25,
   "id": "146b4fa9",
   "metadata": {},
   "outputs": [],
   "source": [
    "import spacy\n",
    "import numpy as np\n",
    "from tabulate import tabulate"
   ]
  },
  {
   "cell_type": "markdown",
   "id": "6aa67634",
   "metadata": {},
   "source": [
    "# Loading Model and Phrases"
   ]
  },
  {
   "cell_type": "code",
   "execution_count": 26,
   "id": "7875b9b9",
   "metadata": {},
   "outputs": [],
   "source": [
    "nlp = spacy.load(\"en_core_web_md\")\n",
    "\n",
    "correct_phrases = [\n",
    "    \"machine learning\",\n",
    "    \"deep learning\",\n",
    "    \"reinforcement learning\",\n",
    "    \"natural language processing\",\n",
    "    \"computer vision\",\n",
    "    \"support vector machine\",\n",
    "    \"decision tree classifier\",\n",
    "    \"neural networks\",\n",
    "    \"convolutional neural network\",\n",
    "    \"recurrent neural network\",\n",
    "    \"gradient descent algorithm\",\n",
    "    \"unsupervised learning\",\n",
    "    \"supervised learning\",\n",
    "    \"transfer learning\",\n",
    "    \"generative adversarial networks\",\n",
    "    \"transformers in NLP\",\n",
    "    \"bert model\",\n",
    "    \"ai in healthcare\",\n",
    "    \"self-driving cars\",\n",
    "    \"object detection\",\n",
    "    \"face recognition\"\n",
    "]"
   ]
  },
  {
   "cell_type": "markdown",
   "id": "e01a7ab1",
   "metadata": {},
   "source": [
    "# K-gram"
   ]
  },
  {
   "cell_type": "code",
   "execution_count": 27,
   "id": "3868133f",
   "metadata": {},
   "outputs": [],
   "source": [
    "def jaccard_similarity(str1, str2, n=3):\n",
    "    ngrams1 = set([str1[i:i+n] for i in range(len(str1)-n+1)])\n",
    "    ngrams2 = set([str2[i:i+n] for i in range(len(str2)-n+1)])\n",
    "    return len(ngrams1 & ngrams2) / len(ngrams1 | ngrams2) if ngrams1 | ngrams2 else 0"
   ]
  },
  {
   "cell_type": "markdown",
   "id": "8360e31b",
   "metadata": {},
   "source": [
    "# Levenshtein Distance"
   ]
  },
  {
   "cell_type": "code",
   "execution_count": 28,
   "id": "dacffe6d",
   "metadata": {},
   "outputs": [],
   "source": [
    "def levenshtein_distance(s1, s2):\n",
    "    dp = np.zeros((len(s1)+1, len(s2)+1), dtype=int)\n",
    "    for i in range(len(s1)+1): dp[i][0] = i\n",
    "    for j in range(len(s2)+1): dp[0][j] = j\n",
    "    for i in range(1, len(s1)+1):\n",
    "        for j in range(1, len(s2)+1):\n",
    "            cost = 0 if s1[i-1] == s2[j-1] else 1\n",
    "            dp[i][j] = min(dp[i-1][j]+1, dp[i][j-1]+1, dp[i-1][j-1]+cost)\n",
    "    return dp[-1][-1]"
   ]
  },
  {
   "cell_type": "markdown",
   "id": "89f9f8cb",
   "metadata": {},
   "source": [
    "# Semantic Similarity"
   ]
  },
  {
   "cell_type": "code",
   "execution_count": 29,
   "id": "934be02e",
   "metadata": {},
   "outputs": [],
   "source": [
    "def semantic_similarity(q1, q2):\n",
    "    return nlp(q1).similarity(nlp(q2))"
   ]
  },
  {
   "cell_type": "markdown",
   "id": "0ba7710e",
   "metadata": {},
   "source": [
    "# Sound Match"
   ]
  },
  {
   "cell_type": "code",
   "execution_count": 30,
   "id": "f9e0faa4",
   "metadata": {},
   "outputs": [],
   "source": [
    "def simple_sound_match(w1, w2):\n",
    "    return 1.0 if w1[0] == w2[0] else 0.0"
   ]
  },
  {
   "cell_type": "markdown",
   "id": "5a751109",
   "metadata": {},
   "source": [
    "# Correcting the Phrase"
   ]
  },
  {
   "cell_type": "code",
   "execution_count": 31,
   "id": "10b537f4",
   "metadata": {},
   "outputs": [],
   "source": [
    "def correct_phrase(user_input, top_k=3):\n",
    "    scored = []\n",
    "    for phrase in correct_phrases:\n",
    "        jaccard = jaccard_similarity(user_input, phrase)\n",
    "        edit_dist = levenshtein_distance(user_input, phrase)\n",
    "        noise_score = 1 / (1 + edit_dist)\n",
    "        semantic = semantic_similarity(user_input, phrase)\n",
    "        sound = simple_sound_match(user_input, phrase)\n",
    "\n",
    "        total = 0.4 * jaccard + 0.4 * noise_score + 0.15 * semantic + 0.05 * sound\n",
    "\n",
    "        scored.append({\n",
    "            \"phrase\": phrase,\n",
    "            \"total\": total,\n",
    "            \"jaccard\": jaccard,\n",
    "            \"noise\": noise_score,\n",
    "            \"semantic\": semantic,\n",
    "            \"sound\": sound\n",
    "        })\n",
    "\n",
    "    top = sorted(scored, key=lambda x: x[\"total\"], reverse=True)[:top_k]\n",
    "    return top"
   ]
  },
  {
   "cell_type": "markdown",
   "id": "e376c9a5",
   "metadata": {},
   "source": [
    "# Execution"
   ]
  },
  {
   "cell_type": "code",
   "execution_count": 32,
   "id": "485cc212",
   "metadata": {},
   "outputs": [
    {
     "name": "stdout",
     "output_type": "stream",
     "text": [
      "Input: machin lernng\n",
      "\n",
      "Top Suggestions:\n",
      "\n",
      "╒════════════════════════╤═══════════════╤════════════════════╤════════════════╤══════════════════════╤═════════╕\n",
      "│ Suggested Phrase       │   Final Score │   Jaccard (k-gram) │   Noise (edit) │   Context (semantic) │   Sound │\n",
      "╞════════════════════════╪═══════════════╪════════════════════╪════════════════╪══════════════════════╪═════════╡\n",
      "│ machine learning       │        0.2374 │             0.25   │         0.25   │              -0.0838 │       1 │\n",
      "├────────────────────────┼───────────────┼────────────────────┼────────────────┼──────────────────────┼─────────┤\n",
      "│ support vector machine │        0.0681 │             0.1481 │         0.0526 │              -0.0816 │       0 │\n",
      "├────────────────────────┼───────────────┼────────────────────┼────────────────┼──────────────────────┼─────────┤\n",
      "│ deep learning          │        0.0523 │             0.0476 │         0.1111 │              -0.0745 │       0 │\n",
      "╘════════════════════════╧═══════════════╧════════════════════╧════════════════╧══════════════════════╧═════════╛\n"
     ]
    }
   ],
   "source": [
    "user_input = input(\"Enter your phrase: \")\n",
    "top_results = correct_phrase(user_input)\n",
    "\n",
    "# Filling table data\n",
    "table_data = []\n",
    "for result in top_results:\n",
    "    table_data.append([\n",
    "        result[\"phrase\"],\n",
    "        f\"{result['total']:.4f}\",\n",
    "        f\"{result['jaccard']:.4f}\",\n",
    "        f\"{result['noise']:.4f}\",\n",
    "        f\"{result['semantic']:.4f}\",\n",
    "        f\"{result['sound']:.2f}\"\n",
    "    ])\n",
    "\n",
    "print(f\"Input: {user_input}\")\n",
    "headers = [\"Suggested Phrase\", \"Final Score\", \"Jaccard (k-gram)\", \"Noise (edit)\", \"Context (semantic)\", \"Sound\"]\n",
    "print(\"\\nTop Suggestions:\\n\")\n",
    "print(tabulate(table_data, headers=headers, tablefmt=\"fancy_grid\"))"
   ]
  }
 ],
 "metadata": {
  "kernelspec": {
   "display_name": ".venv",
   "language": "python",
   "name": "python3"
  },
  "language_info": {
   "codemirror_mode": {
    "name": "ipython",
    "version": 3
   },
   "file_extension": ".py",
   "mimetype": "text/x-python",
   "name": "python",
   "nbconvert_exporter": "python",
   "pygments_lexer": "ipython3",
   "version": "3.12.3"
  }
 },
 "nbformat": 4,
 "nbformat_minor": 5
}
